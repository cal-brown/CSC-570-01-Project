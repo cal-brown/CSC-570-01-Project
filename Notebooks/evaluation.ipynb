{
 "cells": [
  {
   "cell_type": "code",
   "execution_count": 13,
   "metadata": {},
   "outputs": [
    {
     "ename": "ValueError",
     "evalue": "Could not find plotting backend 'plotly'. Ensure that you've installed the package providing the 'plotly' entrypoint, or that the package has a top-level `.plot` method.",
     "output_type": "error",
     "traceback": [
      "\u001b[0;31m---------------------------------------------------------------------------\u001b[0m",
      "\u001b[0;31mValueError\u001b[0m                                Traceback (most recent call last)",
      "Cell \u001b[0;32mIn[13], line 4\u001b[0m\n\u001b[1;32m      2\u001b[0m \u001b[39mimport\u001b[39;00m \u001b[39mnumpy\u001b[39;00m \u001b[39mas\u001b[39;00m \u001b[39mnp\u001b[39;00m\n\u001b[1;32m      3\u001b[0m \u001b[39mimport\u001b[39;00m \u001b[39mjson\u001b[39;00m\n\u001b[0;32m----> 4\u001b[0m pd\u001b[39m.\u001b[39;49moptions\u001b[39m.\u001b[39;49mplotting\u001b[39m.\u001b[39;49mbackend \u001b[39m=\u001b[39m \u001b[39m'\u001b[39m\u001b[39mplotly\u001b[39m\u001b[39m'\u001b[39m\n",
      "File \u001b[0;32m~/development/grad/calbrown/CSC-570-01-Project/venv/lib/python3.9/site-packages/pandas/_config/config.py:226\u001b[0m, in \u001b[0;36mDictWrapper.__setattr__\u001b[0;34m(self, key, val)\u001b[0m\n\u001b[1;32m    223\u001b[0m \u001b[39m# you can't set new keys\u001b[39;00m\n\u001b[1;32m    224\u001b[0m \u001b[39m# can you can't overwrite subtrees\u001b[39;00m\n\u001b[1;32m    225\u001b[0m \u001b[39mif\u001b[39;00m key \u001b[39min\u001b[39;00m \u001b[39mself\u001b[39m\u001b[39m.\u001b[39md \u001b[39mand\u001b[39;00m \u001b[39mnot\u001b[39;00m \u001b[39misinstance\u001b[39m(\u001b[39mself\u001b[39m\u001b[39m.\u001b[39md[key], \u001b[39mdict\u001b[39m):\n\u001b[0;32m--> 226\u001b[0m     _set_option(prefix, val)\n\u001b[1;32m    227\u001b[0m \u001b[39melse\u001b[39;00m:\n\u001b[1;32m    228\u001b[0m     \u001b[39mraise\u001b[39;00m OptionError(\u001b[39m\"\u001b[39m\u001b[39mYou can only set the value of existing options\u001b[39m\u001b[39m\"\u001b[39m)\n",
      "File \u001b[0;32m~/development/grad/calbrown/CSC-570-01-Project/venv/lib/python3.9/site-packages/pandas/_config/config.py:160\u001b[0m, in \u001b[0;36m_set_option\u001b[0;34m(*args, **kwargs)\u001b[0m\n\u001b[1;32m    158\u001b[0m o \u001b[39m=\u001b[39m _get_registered_option(key)\n\u001b[1;32m    159\u001b[0m \u001b[39mif\u001b[39;00m o \u001b[39mand\u001b[39;00m o\u001b[39m.\u001b[39mvalidator:\n\u001b[0;32m--> 160\u001b[0m     o\u001b[39m.\u001b[39;49mvalidator(v)\n\u001b[1;32m    162\u001b[0m \u001b[39m# walk the nested dict\u001b[39;00m\n\u001b[1;32m    163\u001b[0m root, k \u001b[39m=\u001b[39m _get_root(key)\n",
      "File \u001b[0;32m~/development/grad/calbrown/CSC-570-01-Project/venv/lib/python3.9/site-packages/pandas/core/config_init.py:751\u001b[0m, in \u001b[0;36mregister_plotting_backend_cb\u001b[0;34m(key)\u001b[0m\n\u001b[1;32m    748\u001b[0m     \u001b[39mreturn\u001b[39;00m\n\u001b[1;32m    749\u001b[0m \u001b[39mfrom\u001b[39;00m \u001b[39mpandas\u001b[39;00m\u001b[39m.\u001b[39;00m\u001b[39mplotting\u001b[39;00m\u001b[39m.\u001b[39;00m\u001b[39m_core\u001b[39;00m \u001b[39mimport\u001b[39;00m _get_plot_backend\n\u001b[0;32m--> 751\u001b[0m _get_plot_backend(key)\n",
      "File \u001b[0;32m~/development/grad/calbrown/CSC-570-01-Project/venv/lib/python3.9/site-packages/pandas/plotting/_core.py:1886\u001b[0m, in \u001b[0;36m_get_plot_backend\u001b[0;34m(backend)\u001b[0m\n\u001b[1;32m   1883\u001b[0m \u001b[39mif\u001b[39;00m backend_str \u001b[39min\u001b[39;00m _backends:\n\u001b[1;32m   1884\u001b[0m     \u001b[39mreturn\u001b[39;00m _backends[backend_str]\n\u001b[0;32m-> 1886\u001b[0m module \u001b[39m=\u001b[39m _load_backend(backend_str)\n\u001b[1;32m   1887\u001b[0m _backends[backend_str] \u001b[39m=\u001b[39m module\n\u001b[1;32m   1888\u001b[0m \u001b[39mreturn\u001b[39;00m module\n",
      "File \u001b[0;32m~/development/grad/calbrown/CSC-570-01-Project/venv/lib/python3.9/site-packages/pandas/plotting/_core.py:1855\u001b[0m, in \u001b[0;36m_load_backend\u001b[0;34m(backend)\u001b[0m\n\u001b[1;32m   1850\u001b[0m     \u001b[39mif\u001b[39;00m \u001b[39mhasattr\u001b[39m(module, \u001b[39m\"\u001b[39m\u001b[39mplot\u001b[39m\u001b[39m\"\u001b[39m):\n\u001b[1;32m   1851\u001b[0m         \u001b[39m# Validate that the interface is implemented when the option is set,\u001b[39;00m\n\u001b[1;32m   1852\u001b[0m         \u001b[39m# rather than at plot time.\u001b[39;00m\n\u001b[1;32m   1853\u001b[0m         \u001b[39mreturn\u001b[39;00m module\n\u001b[0;32m-> 1855\u001b[0m \u001b[39mraise\u001b[39;00m \u001b[39mValueError\u001b[39;00m(\n\u001b[1;32m   1856\u001b[0m     \u001b[39mf\u001b[39m\u001b[39m\"\u001b[39m\u001b[39mCould not find plotting backend \u001b[39m\u001b[39m'\u001b[39m\u001b[39m{\u001b[39;00mbackend\u001b[39m}\u001b[39;00m\u001b[39m'\u001b[39m\u001b[39m. Ensure that you\u001b[39m\u001b[39m'\u001b[39m\u001b[39mve \u001b[39m\u001b[39m\"\u001b[39m\n\u001b[1;32m   1857\u001b[0m     \u001b[39mf\u001b[39m\u001b[39m\"\u001b[39m\u001b[39minstalled the package providing the \u001b[39m\u001b[39m'\u001b[39m\u001b[39m{\u001b[39;00mbackend\u001b[39m}\u001b[39;00m\u001b[39m'\u001b[39m\u001b[39m entrypoint, or that \u001b[39m\u001b[39m\"\u001b[39m\n\u001b[1;32m   1858\u001b[0m     \u001b[39m\"\u001b[39m\u001b[39mthe package has a top-level `.plot` method.\u001b[39m\u001b[39m\"\u001b[39m\n\u001b[1;32m   1859\u001b[0m )\n",
      "\u001b[0;31mValueError\u001b[0m: Could not find plotting backend 'plotly'. Ensure that you've installed the package providing the 'plotly' entrypoint, or that the package has a top-level `.plot` method."
     ]
    }
   ],
   "source": [
    "import pandas as pd\n",
    "import numpy as np\n",
    "import json\n",
    "#pd.options.plotting.backend = 'plotly'\n",
    "\n"
   ]
  },
  {
   "cell_type": "code",
   "execution_count": 8,
   "metadata": {},
   "outputs": [],
   "source": [
    "def load_results():\n",
    "    agents = [\"ida_star\"]\n",
    "    df = pd.DataFrame()\n",
    "    for agent in agents:\n",
    "        with open(f\"../Results/{agent}_results.json\", \"r\") as f:\n",
    "            data = json.load(f)\n",
    "            data= pd.DataFrame(data).T\n",
    "            data[\"agent\"] = agent\n",
    "            df = pd.concat([df, data])\n",
    "    return df\n",
    "df = load_results()"
   ]
  },
  {
   "cell_type": "code",
   "execution_count": 9,
   "metadata": {},
   "outputs": [
    {
     "data": {
      "text/plain": [
       "array(['ida_star'], dtype=object)"
      ]
     },
     "execution_count": 9,
     "metadata": {},
     "output_type": "execute_result"
    }
   ],
   "source": [
    "df[\"agent\"].unique()"
   ]
  },
  {
   "cell_type": "code",
   "execution_count": 10,
   "metadata": {},
   "outputs": [
    {
     "data": {
      "text/plain": [
       "agent\n",
       "ida_star    0.652542\n",
       "Name: won, dtype: object"
      ]
     },
     "execution_count": 10,
     "metadata": {},
     "output_type": "execute_result"
    }
   ],
   "source": [
    "# Proportion of wins\n",
    "df.groupby(\"agent\")[\"won\"].sum() / df.groupby(\"agent\")[\"won\"].count()"
   ]
  },
  {
   "cell_type": "code",
   "execution_count": 12,
   "metadata": {},
   "outputs": [
    {
     "data": {
      "text/html": [
       "<div>\n",
       "<style scoped>\n",
       "    .dataframe tbody tr th:only-of-type {\n",
       "        vertical-align: middle;\n",
       "    }\n",
       "\n",
       "    .dataframe tbody tr th {\n",
       "        vertical-align: top;\n",
       "    }\n",
       "\n",
       "    .dataframe thead th {\n",
       "        text-align: right;\n",
       "    }\n",
       "</style>\n",
       "<table border=\"1\" class=\"dataframe\">\n",
       "  <thead>\n",
       "    <tr style=\"text-align: right;\">\n",
       "      <th></th>\n",
       "      <th>score</th>\n",
       "      <th>steps</th>\n",
       "    </tr>\n",
       "    <tr>\n",
       "      <th>agent</th>\n",
       "      <th></th>\n",
       "      <th></th>\n",
       "    </tr>\n",
       "  </thead>\n",
       "  <tbody>\n",
       "    <tr>\n",
       "      <th>ida_star</th>\n",
       "      <td>93.635593</td>\n",
       "      <td>7.519481</td>\n",
       "    </tr>\n",
       "  </tbody>\n",
       "</table>\n",
       "</div>"
      ],
      "text/plain": [
       "              score     steps\n",
       "agent                        \n",
       "ida_star  93.635593  7.519481"
      ]
     },
     "execution_count": 12,
     "metadata": {},
     "output_type": "execute_result"
    }
   ],
   "source": [
    "df.groupby(\"agent\")[[\"score\", \"steps\"]].mean()"
   ]
  },
  {
   "cell_type": "code",
   "execution_count": 16,
   "metadata": {},
   "outputs": [
    {
     "data": {
      "text/plain": [
       "<AxesSubplot: title={'center': 'score'}, xlabel='agent'>"
      ]
     },
     "execution_count": 16,
     "metadata": {},
     "output_type": "execute_result"
    }
   ],
   "source": [
    "df.boxplot(\"score\", by = \"agent\")\n"
   ]
  },
  {
   "cell_type": "code",
   "execution_count": 11,
   "metadata": {},
   "outputs": [
    {
     "ename": "NameError",
     "evalue": "name 'px' is not defined",
     "output_type": "error",
     "traceback": [
      "\u001b[0;31m---------------------------------------------------------------------------\u001b[0m",
      "\u001b[0;31mNameError\u001b[0m                                 Traceback (most recent call last)",
      "Cell \u001b[0;32mIn[11], line 1\u001b[0m\n\u001b[0;32m----> 1\u001b[0m px\u001b[39m.\u001b[39mbox(df, x\u001b[39m=\u001b[39m\u001b[39m\"\u001b[39m\u001b[39magent\u001b[39m\u001b[39m\"\u001b[39m, y\u001b[39m=\u001b[39m\u001b[39m'\u001b[39m\u001b[39mscore\u001b[39m\u001b[39m'\u001b[39m, title\u001b[39m=\u001b[39m\u001b[39m\"\u001b[39m\u001b[39mAgent Score Distribution\u001b[39m\u001b[39m\"\u001b[39m)\n",
      "\u001b[0;31mNameError\u001b[0m: name 'px' is not defined"
     ]
    }
   ],
   "source": [
    "\n",
    "px.box(df, x=\"agent\", y='score', title=\"Agent Score Distribution\")"
   ]
  },
  {
   "cell_type": "code",
   "execution_count": null,
   "metadata": {},
   "outputs": [],
   "source": []
  }
 ],
 "metadata": {
  "interpreter": {
   "hash": "c6e4e9f98eb68ad3b7c296f83d20e6de614cb42e90992a65aa266555a3137d0d"
  },
  "kernelspec": {
   "display_name": "Python 3.9.12 ('base')",
   "language": "python",
   "name": "python3"
  },
  "language_info": {
   "codemirror_mode": {
    "name": "ipython",
    "version": 3
   },
   "file_extension": ".py",
   "mimetype": "text/x-python",
   "name": "python",
   "nbconvert_exporter": "python",
   "pygments_lexer": "ipython3",
   "version": "3.9.0"
  },
  "orig_nbformat": 4
 },
 "nbformat": 4,
 "nbformat_minor": 2
}
